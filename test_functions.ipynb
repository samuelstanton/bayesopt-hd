{
 "cells": [
  {
   "cell_type": "code",
   "execution_count": 3,
   "metadata": {},
   "outputs": [],
   "source": [
    "import math\n",
    "import torch\n",
    "from torch.autograd import Variable"
   ]
  },
  {
   "cell_type": "code",
   "execution_count": 9,
   "metadata": {},
   "outputs": [],
   "source": [
    "def branin(scaled_x):\n",
    "    #Recommended parameter values for rescaled branin on unit rectangle\n",
    "    #source: www.sfu.ca/~ssurjano/optimization\n",
    "    #2-D Function with 3 optima\n",
    "    #One optima @ branin(0.961652, 0.165) = 1.0474\n",
    "    \n",
    "    a = 1/51.95; b=5.1/(4*math.pi**2)\n",
    "    c=5/math.pi; r=6 \n",
    "    s=10; t=1/(8*math.pi)\n",
    "    \n",
    "    if len(scaled_x.shape) == 1:\n",
    "        scaled_x = scaled_x.view(1, 2)\n",
    "    \n",
    "    x = Variable(torch.zeros(scaled_x.shape[0], 2))\n",
    "    x[:, 0] = 15 * scaled_x[:, 0] - 5\n",
    "    x[:, 1] = 15 * scaled_x[:, 1]\n",
    "    \n",
    "    return -a*((x[:, 1] - b*x[:, 0]**2 + c*x[:, 0] - r)**2 + s*(1-t)*torch.cos(x[:, 0]) - 44.81)\n",
    "\n",
    "def decaying_cos(x):\n",
    "    n = x.shape[-1]\n",
    "    if len(x.shape) == 1:\n",
    "        x = x.view(1, n)\n",
    "    val = Variable(torch.zeros(x.shape[0]))\n",
    "    for i in range(n):\n",
    "        val = val + -1/(x[:, i]+1)*torch.cos(2*math.pi*x[:, i])\n",
    "    return val\n",
    "\n",
    "def rosenbrock(scaled_x):\n",
    "    \n",
    "    dim = scaled_x.shape[-1]\n",
    "    if len(scaled_x.shape) == 1:\n",
    "        scaled_x = scaled_x.view(1, dim)\n",
    "    \n",
    "    x = 15 * scaled_x - 5\n",
    "    a = 1/(3.755*10**5)\n",
    "    b = -3.827*10**5\n",
    "    val = Variable(torch.zeros(x.shape[0]))\n",
    "    \n",
    "    for i in range(dim-1):\n",
    "        val = val + 100*(x[:, i+1] - x[:, i]**2)**2 + (1 - x[:, i])**2\n",
    "        \n",
    "    return -a*(val + b)"
   ]
  },
  {
   "cell_type": "code",
   "execution_count": 14,
   "metadata": {},
   "outputs": [],
   "source": [
    "def hartmann6d(x):\n",
    "    n = x.shape[-1]\n",
    "    if len(x.shape) == 1:\n",
    "        x = x.view(1, n)\n",
    "        \n",
    "    alpha = torch.Tensor([1.0, 1.2, 3.0, 3.2])\n",
    "    A = torch.Tensor([[10, 3, 17, 3.50, 1.7, 8], \n",
    "                      [0.05, 10, 17, 0.1, 8, 14],\n",
    "                      [3, 3.5, 1.7, 10, 17, 8],\n",
    "                      [17, 8, 0.05, 10, 0.1, 14]])\n",
    "    \n",
    "    P = 10**(-4) * torch.Tensor([[1312, 1696, 5569, 124, 8283, 5886],\n",
    "                                [2329, 4135, 8307, 3736, 1004, 9991],\n",
    "                                [2348, 1451, 3522, 2883, 3047, 6650],\n",
    "                                [4047, 8828, 8732, 5743, 1091, 381]])\n",
    "    \n",
    "    summand = Variable(torch.zeros(x.shape[0]))\n",
    "    for i in range(4):\n",
    "        temp = Variable(torch.zeros(x.shape[0]))\n",
    "        for j in range(6):\n",
    "            temp += A[i, j]*(x[:, j] - P[i, j])**2\n",
    "        \n",
    "        summand += alpha[i]*torch.exp(-temp)\n",
    "    \n",
    "    return summand"
   ]
  },
  {
   "cell_type": "code",
   "execution_count": 30,
   "metadata": {},
   "outputs": [],
   "source": [
    "def ackley(x):\n",
    "    #Global max of 0 at origin\n",
    "    n = x.shape[-1]\n",
    "    if len(x.shape) == 1:\n",
    "        x = x.view(1, n)\n",
    "        \n",
    "    a = 20; b = 0.2; c=2*math.pi;\n",
    "    \n",
    "    term_1 = -a * torch.exp(-b*torch.sqrt(1/n*torch.sum(x**2, dim=1)))\n",
    "    term_2 = -1*torch.exp(1/n*torch.sum(torch.cos(c*x), dim=1))\n",
    "    \n",
    "    return -1*(term_1 + term_2 + a + math.exp(1))"
   ]
  }
 ],
 "metadata": {
  "kernelspec": {
   "display_name": "Python [conda env:gpytorch]",
   "language": "python",
   "name": "conda-env-gpytorch-py"
  },
  "language_info": {
   "codemirror_mode": {
    "name": "ipython",
    "version": 3
   },
   "file_extension": ".py",
   "mimetype": "text/x-python",
   "name": "python",
   "nbconvert_exporter": "python",
   "pygments_lexer": "ipython3",
   "version": "3.6.4"
  }
 },
 "nbformat": 4,
 "nbformat_minor": 2
}
