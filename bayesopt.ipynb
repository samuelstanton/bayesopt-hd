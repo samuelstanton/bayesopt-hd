{
 "cells": [
  {
   "cell_type": "code",
   "execution_count": 3,
   "metadata": {},
   "outputs": [],
   "source": [
    "import math\n",
    "import torch\n",
    "import gpytorch\n",
    "import numpy as np\n",
    "from matplotlib import pyplot as plt\n",
    "\n",
    "%matplotlib inline\n",
    "%load_ext autoreload\n",
    "%autoreload 2"
   ]
  },
  {
   "cell_type": "code",
   "execution_count": 4,
   "metadata": {},
   "outputs": [],
   "source": [
    "from torch.autograd import Variable\n",
    "# Training data is 11 points in [0,1] inclusive regularly spaced\n",
    "train_x = Variable(torch.linspace(0, 1, 11))\n",
    "# True function is sin(2*pi*x) with Gaussian noise N(0,0.04)\n",
    "train_y = Variable(torch.sin(train_x.data * (2 * math.pi)) + torch.randn(train_x.size()) * 0.2)\n",
    "\n",
    "from torch import optim\n",
    "from gpytorch.kernels import RBFKernel\n",
    "from gpytorch.means import ConstantMean\n",
    "from gpytorch.likelihoods import GaussianLikelihood\n",
    "from gpytorch.random_variables import GaussianRandomVariable\n",
    "from scipy.stats import norm\n",
    "from scipy.optimize import minimize"
   ]
  },
  {
   "cell_type": "code",
   "execution_count": 5,
   "metadata": {},
   "outputs": [],
   "source": [
    "class ExactGPModel(gpytorch.models.ExactGP):\n",
    "    def __init__(self, train_x, train_y, likelihood):\n",
    "        super(ExactGPModel, self).__init__(train_x, train_y, likelihood)\n",
    "        # Our mean function is constant in the interval [-1,1]\n",
    "        self.mean_module = ConstantMean(constant_bounds=(-1, 1))\n",
    "        # We use the RBF kernel as a universal approximator\n",
    "        self.covar_module = RBFKernel(log_lengthscale_bounds=(-5, 5))\n",
    "    \n",
    "    def forward(self, x):\n",
    "        mean_x = self.mean_module(x)\n",
    "        covar_x = self.covar_module(x)\n",
    "        # Return moddl output as GaussianRandomVariable\n",
    "        return GaussianRandomVariable(mean_x, covar_x)"
   ]
  },
  {
   "cell_type": "code",
   "execution_count": 43,
   "metadata": {},
   "outputs": [],
   "source": [
    "#Adaptation of acquisition maximization from Python BayesOpt implementation found at\n",
    "#https://github.com/fmfn/BayesianOptimization\n",
    "\n",
    "def acq_max(ac, gp, y_max, dim, bounds, random_state, n_warmup=1000, n_iter=250):\n",
    "    \"\"\"\n",
    "    A function to find the maximum of the acquisition function\n",
    "    It uses a combination of random sampling (cheap) and the 'L-BFGS-B'\n",
    "    optimization method. First by sampling `n_warmup` (1e5) points at random,\n",
    "    and then running L-BFGS-B from `n_iter` (250) random starting points.\n",
    "    Parameters\n",
    "    ----------\n",
    "    :param ac:\n",
    "        The acquisition function object that return its point-wise value.\n",
    "    :param gp:\n",
    "        A gaussian process fitted to the relevant data.\n",
    "    :param y_max:\n",
    "        The current maximum known value of the target function.\n",
    "    :param bounds:\n",
    "        The variables bounds to limit the search of the acq max.\n",
    "    :param random_state:\n",
    "        instance of np.RandomState random number generator\n",
    "    :param n_warmup:\n",
    "        number of times to randomly sample the aquisition function\n",
    "    :param n_iter:\n",
    "        number of times to run scipy.minimize\n",
    "    Returns\n",
    "    -------\n",
    "    :return: x_max, The arg max of the acquisition function.\n",
    "    \"\"\"\n",
    "    \n",
    "    # Warm up with random points\n",
    "    #x_tries = Variable(torch.linspace(bounds[0][0], bounds[0][1], n_warmup))\n",
    "    \n",
    "    #ys = ac(x_tries, gp, y_max, xi=0.01).data.numpy()\n",
    "    #x_max = x_tries.data.numpy()[ys.argmax()]\n",
    "    #max_acq = float(ys.max())\n",
    "    \n",
    "    #Initialize\n",
    "    x_max = Variable(torch.Tensor(1, dim).uniform_(bounds[0][0], bounds[0][1]))\n",
    "    max_acq = ac(x_max, gp, y_max, xi=0.01)\n",
    "\n",
    "    # Explore the parameter space more throughly\n",
    "    x_seeds = Variable(torch.Tensor(n_iter, dim).uniform_(bounds[0][0], bounds[0][1]))\n",
    "    \n",
    "    for x_try in x_seeds:\n",
    "        x_try = x_try.view(1, dim)\n",
    "\n",
    "        # Find the minimum of minus the acquisition function\n",
    "        res = minimize(lambda x: -ac(Variable(torch.from_numpy(x).float()).view(1, dim), gp, y_max, xi=0.01),\n",
    "                       x_try,\n",
    "                       bounds=bounds,\n",
    "                       method=\"L-BFGS-B\")\n",
    "\n",
    "        # See if success\n",
    "        if not res.success:\n",
    "            continue\n",
    "           \n",
    "        # Store it if better than previous minimum(maximum).\n",
    "        if max_acq is None or float((-res.fun[0]).gt(max_acq)):\n",
    "            x_max = Variable(torch.from_numpy(np.clip(res.x, bounds[0][0], bounds[0][1])).float()) \n",
    "            max_acq = float(-res.fun[0])\n",
    "\n",
    "    # Clip output to make sure it lies within the bounds. Due to floating\n",
    "    # point technicalities this is not always the case.\n",
    "    return x_max.view(1, dim)"
   ]
  },
  {
   "cell_type": "code",
   "execution_count": 41,
   "metadata": {},
   "outputs": [],
   "source": [
    "class Bayes_opt:\n",
    "    \n",
    "    def __init__(self, func, dim, step_num):\n",
    "        \n",
    "        self.dim = dim\n",
    "        self.bounds = [(0,1)]*dim\n",
    "        self.step_num = step_num\n",
    "        self.sample_pts = Variable(torch.zeros(step_num, dim))     \n",
    "        self.sample_vals = Variable(torch.zeros(step_num))       \n",
    "        self.opt_val = -float(\"inf\")       \n",
    "        self.opt_soln = None       \n",
    "        self.obj_func = func\n",
    "        self.model_GP = None\n",
    "        \n",
    "        \n",
    "    def _ei(self, x, gp, y_max, xi):\n",
    " \n",
    "        predict_pt = gp(x)\n",
    "        mean = predict_pt.mean()\n",
    "        std = torch.sqrt(predict_pt.var())\n",
    "        z = (mean - y_max - xi)/std\n",
    "    \n",
    "        return (\n",
    "            (mean - y_max - xi) * Variable(torch.from_numpy(norm.cdf(z.data)).float()) + \n",
    "            std * Variable(torch.from_numpy(norm.pdf(z.data)).float())\n",
    "            )        \n",
    "    \n",
    "    def _update_GP(self, train_x, train_y):\n",
    "        \n",
    "        likelihood = GaussianLikelihood(log_noise_bounds=(-5, 5))\n",
    "        \n",
    "        model = ExactGPModel(train_x.data, train_y.data, likelihood)\n",
    "        model.train()\n",
    "        likelihood.train()\n",
    "        \n",
    "        # Use the adam optimizer\n",
    "        optimizer = torch.optim.Adam([\n",
    "            {'params': model.parameters()},  # Includes GaussianLikelihood parameters\n",
    "        ], lr=0.1)\n",
    "\n",
    "        # \"Loss\" for GPs - the marginal log likelihood\n",
    "        mll = gpytorch.mlls.ExactMarginalLogLikelihood(likelihood, model)\n",
    "\n",
    "        training_iter = 50\n",
    "        for i in range(training_iter):\n",
    "            # Zero gradients from previous iteration\n",
    "            optimizer.zero_grad()\n",
    "            # Output from model\n",
    "            output = model(train_x)\n",
    "            # Calc loss and backprop gradients\n",
    "            loss = -mll(output, train_y)\n",
    "            loss.backward()\n",
    "            #print('Iter %d/%d - Loss: %.3f   log_lengthscale: %.3f   log_noise: %.3f' % (\n",
    "                #i + 1, training_iter, loss.data[0],\n",
    "                #model.covar_module.log_lengthscale.data[0, 0],\n",
    "                #model.likelihood.log_noise.data[0]\n",
    "            #))\n",
    "            optimizer.step()\n",
    "    \n",
    "        # Put model and likelihood into eval mode\n",
    "        model.eval()\n",
    "        likelihood.eval()\n",
    "\n",
    "        return model\n",
    "        \n",
    "        \n",
    "    def optimize(self):\n",
    "        \n",
    "        start_pts = Variable(torch.rand(3, self.dim))\n",
    "        start_vals = self.obj_func(start_pts)\n",
    "        self.opt_val = torch.min(start_vals.data)\n",
    "        ind = torch.min(start_vals.data, 0)[1]\n",
    "        self.opt_soln = start_pts[ind]\n",
    "\n",
    "        self.model_GP = self._update_GP(start_pts, start_vals)\n",
    "        \n",
    "        print(\"GP initiated\")\n",
    "        \n",
    "        for t in range(self.step_num):\n",
    "            \n",
    "            if t%10 == 0: print(t, ': ', self.opt_val)\n",
    "            \n",
    "            new_pt = acq_max(ac=self._ei, gp=self.model_GP, y_max=self.opt_val, \n",
    "                             dim=self.dim, bounds=self.bounds, random_state=np.random.RandomState())\n",
    "            new_val = float(self.obj_func(new_pt))\n",
    "            self.sample_pts[t] = new_pt\n",
    "            self.sample_vals[t] = new_val\n",
    "            \n",
    "            if new_val > self.opt_val:\n",
    "                self.opt_val = new_val\n",
    "                self.opt_soln = new_pt\n",
    "                \n",
    "            self.model_GP = self._update_GP(self.sample_pts[:t+1], self.sample_vals[:t+1])"
   ]
  },
  {
   "cell_type": "code",
   "execution_count": 44,
   "metadata": {
    "scrolled": true
   },
   "outputs": [
    {
     "name": "stdout",
     "output_type": "stream",
     "text": [
      "GP initiated\n",
      "0 :  0.05697297677397728\n"
     ]
    }
   ],
   "source": [
    "#def test_func(x): \n",
    "#    return -1/(x+1)*np.cos(2*math.pi*x)\n",
    "\n",
    "def test_func(x):\n",
    "    n = x.shape[-1]\n",
    "    if len(x.shape) == 1:\n",
    "        x = x.view(1, n)\n",
    "    val = Variable(torch.zeros(x.shape[0]))\n",
    "    for i in range(n):\n",
    "        val = val + -1/(x[:, i]+1)*torch.cos(2*math.pi*x[:, i])\n",
    "    return val\n",
    "\n",
    "step_num = 10\n",
    "\n",
    "test = Bayes_opt(func=test_func, dim=2, step_num=step_num)\n",
    "\n",
    "test.optimize()"
   ]
  },
  {
   "cell_type": "code",
   "execution_count": 48,
   "metadata": {},
   "outputs": [
    {
     "data": {
      "text/plain": [
       "0.05697297677397728"
      ]
     },
     "execution_count": 48,
     "metadata": {},
     "output_type": "execute_result"
    },
    {
     "data": {
      "image/png": "[encoded data removed]",
      "text/plain": [
       "<matplotlib.figure.Figure at 0x7f1993898b70>"
      ]
     },
     "metadata": {},
     "output_type": "display_data"
    }
   ],
   "source": [
    "#true_x = np.linspace(0, 1, 100)\n",
    "#true_y = np.vectorize(test_func)(true_x)\n",
    "#print((test.opt_val-true_y.max())**2)\n",
    "step_num = 10\n",
    "plt.scatter(range(step_num), test.sample_vals.data.numpy())\n",
    "#plt.plot(true_x, true_y, 'r')\n",
    "test.opt_val"
   ]
  },
  {
   "cell_type": "code",
   "execution_count": 164,
   "metadata": {
    "collapsed": true
   },
   "outputs": [
    {
     "ename": "NameError",
     "evalue": "name 'bayes_opt' is not defined",
     "output_type": "error",
     "traceback": [
      "\u001b[0;31m---------------------------------------------------------------------------\u001b[0m",
      "\u001b[0;31mNameError\u001b[0m                                 Traceback (most recent call last)",
      "\u001b[0;32m<ipython-input-164-758c3f8d8709>\u001b[0m in \u001b[0;36m<module>\u001b[0;34m()\u001b[0m\n\u001b[1;32m     35\u001b[0m     \u001b[0max\u001b[0m\u001b[0;34m.\u001b[0m\u001b[0mset_title\u001b[0m\u001b[0;34m(\u001b[0m\u001b[0mtitle\u001b[0m\u001b[0;34m)\u001b[0m\u001b[0;34m\u001b[0m\u001b[0m\n\u001b[1;32m     36\u001b[0m \u001b[0;31m# Plot the predictions\u001b[0m\u001b[0;34m\u001b[0m\u001b[0;34m\u001b[0m\u001b[0m\n\u001b[0;32m---> 37\u001b[0;31m \u001b[0max_plot\u001b[0m\u001b[0;34m(\u001b[0m\u001b[0mobserved_ax\u001b[0m\u001b[0;34m,\u001b[0m \u001b[0mobserved_pred\u001b[0m\u001b[0;34m,\u001b[0m \u001b[0;34m'Observed Values (Likelihood)'\u001b[0m\u001b[0;34m)\u001b[0m\u001b[0;34m\u001b[0m\u001b[0m\n\u001b[0m",
      "\u001b[0;32m<ipython-input-164-758c3f8d8709>\u001b[0m in \u001b[0;36max_plot\u001b[0;34m(ax, rand_var, title)\u001b[0m\n\u001b[1;32m     17\u001b[0m \u001b[0;32mdef\u001b[0m \u001b[0max_plot\u001b[0m\u001b[0;34m(\u001b[0m\u001b[0max\u001b[0m\u001b[0;34m,\u001b[0m \u001b[0mrand_var\u001b[0m\u001b[0;34m,\u001b[0m \u001b[0mtitle\u001b[0m\u001b[0;34m)\u001b[0m\u001b[0;34m:\u001b[0m\u001b[0;34m\u001b[0m\u001b[0m\n\u001b[1;32m     18\u001b[0m \u001b[0;34m\u001b[0m\u001b[0m\n\u001b[0;32m---> 19\u001b[0;31m     \u001b[0mrand_var\u001b[0m \u001b[0;34m=\u001b[0m \u001b[0mbayes_opt\u001b[0m\u001b[0;34m.\u001b[0m\u001b[0mmodel_GP\u001b[0m\u001b[0;34m\u001b[0m\u001b[0m\n\u001b[0m\u001b[1;32m     20\u001b[0m     \u001b[0mtrain_x\u001b[0m \u001b[0;34m=\u001b[0m \u001b[0mbayes_opt\u001b[0m\u001b[0;34m.\u001b[0m\u001b[0msample_pts\u001b[0m\u001b[0;34m\u001b[0m\u001b[0m\n\u001b[1;32m     21\u001b[0m     \u001b[0mtrain_y\u001b[0m \u001b[0;34m=\u001b[0m \u001b[0mbayes_opt\u001b[0m\u001b[0;34m.\u001b[0m\u001b[0msample_vals\u001b[0m\u001b[0;34m\u001b[0m\u001b[0m\n",
      "\u001b[0;31mNameError\u001b[0m: name 'bayes_opt' is not defined"
     ]
    },
    {
     "data": {
      "image/png": "[encoded data removed]",
      "text/plain": [
       "<matplotlib.figure.Figure at 0x7ff75ea56b38>"
      ]
     },
     "metadata": {},
     "output_type": "display_data"
    }
   ],
   "source": [
    "# Put model and likelihood into eval mode\n",
    "model = test.model_GP\n",
    "likelihood = GaussianLikelihood(log_noise_bounds=(-5, 5))\n",
    "\n",
    "model.eval()\n",
    "likelihood.eval()\n",
    "\n",
    "# Initialize plot\n",
    "f, observed_ax = plt.subplots(1, 1, figsize=(4, 3))\n",
    "# Test points are regularly spaced along [0,1] every 0.02\n",
    "test_x = Variable(torch.linspace(0, 1, 51))\n",
    "# Make predictions by feeding model through likelihood\n",
    "with gpytorch.fast_pred_var():\n",
    "    observed_pred = likelihood(model(test_x))\n",
    "\n",
    "# Define plotting function\n",
    "def ax_plot(ax, rand_var, title):\n",
    "    \n",
    "    rand_var = bayes_opt.model_GP\n",
    "    train_x = bayes_opt.sample_pts\n",
    "    train_y = bayes_opt.sample_vals\n",
    "    \n",
    "    # Get upper and lower confidence bounds\n",
    "    lower, upper = rand_var.confidence_region()\n",
    "    # Plot training data as black stars\n",
    "    ax.plot(train_x.data.numpy(), train_y.data.numpy(), 'k*')\n",
    "    #Plot opt soln\n",
    "    ax.plot(train_x.data.numpy(), train_y.data.numpy(), 'k*')\n",
    "    # Plot predictive means as blue line\n",
    "    ax.plot(test_x.data.numpy(), rand_var.mean().data.numpy(), 'b')\n",
    "    # Shade between the lower and upper confidence bounds\n",
    "    ax.fill_between(test_x.data.numpy(), lower.data.numpy(), upper.data.numpy(), alpha=0.5)\n",
    "    ax.set_ylim([-3, 3])\n",
    "    ax.legend(['Observed Data', 'Mean', 'Confidence'])\n",
    "    ax.set_title(title)\n",
    "# Plot the predictions\n",
    "ax_plot(observed_ax, observed_pred, 'Observed Values (Likelihood)')"
   ]
  }
 ],
 "metadata": {
  "kernelspec": {
   "display_name": "Python [conda env:gpytorch]",
   "language": "python",
   "name": "conda-env-gpytorch-py"
  },
  "language_info": {
   "codemirror_mode": {
    "name": "ipython",
    "version": 3
   },
   "file_extension": ".py",
   "mimetype": "text/x-python",
   "name": "python",
   "nbconvert_exporter": "python",
   "pygments_lexer": "ipython3",
   "version": "3.6.4"
  }
 },
 "nbformat": 4,
 "nbformat_minor": 2
}
