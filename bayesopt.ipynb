{
 "cells": [
  {
   "cell_type": "code",
   "execution_count": 4,
   "metadata": {},
   "outputs": [],
   "source": [
    "import math\n",
    "import torch\n",
    "import gpytorch\n",
    "import numpy as np\n",
    "from matplotlib import pyplot as plt\n",
    "\n",
    "%matplotlib inline\n",
    "%load_ext autoreload\n",
    "%autoreload 2"
   ]
  },
  {
   "cell_type": "code",
   "execution_count": 5,
   "metadata": {},
   "outputs": [],
   "source": [
    "from torch.autograd import Variable\n",
    "# Training data is 11 points in [0,1] inclusive regularly spaced\n",
    "train_x = Variable(torch.linspace(0, 1, 11))\n",
    "# True function is sin(2*pi*x) with Gaussian noise N(0,0.04)\n",
    "train_y = Variable(torch.sin(train_x.data * (2 * math.pi)) + torch.randn(train_x.size()) * 0.2)\n",
    "\n",
    "from torch import optim\n",
    "from gpytorch.kernels import RBFKernel\n",
    "from gpytorch.means import ConstantMean\n",
    "from gpytorch.likelihoods import GaussianLikelihood\n",
    "from gpytorch.random_variables import GaussianRandomVariable\n",
    "from scipy.stats import norm\n",
    "from scipy.optimize import minimize"
   ]
  },
  {
   "cell_type": "code",
   "execution_count": 6,
   "metadata": {},
   "outputs": [],
   "source": [
    "class ExactGPModel(gpytorch.models.ExactGP):\n",
    "    def __init__(self, train_x, train_y, likelihood):\n",
    "        super(ExactGPModel, self).__init__(train_x, train_y, likelihood)\n",
    "        # Our mean function is constant in the interval [-1,1]\n",
    "        self.mean_module = ConstantMean(constant_bounds=(-1, 1))\n",
    "        # We use the RBF kernel as a universal approximator\n",
    "        self.covar_module = RBFKernel(log_lengthscale_bounds=(-5, 5))\n",
    "    \n",
    "    def forward(self, x):\n",
    "        mean_x = self.mean_module(x)\n",
    "        covar_x = self.covar_module(x)\n",
    "        # Return moddl output as GaussianRandomVariable\n",
    "        return GaussianRandomVariable(mean_x, covar_x)"
   ]
  },
  {
   "cell_type": "code",
   "execution_count": 158,
   "metadata": {},
   "outputs": [],
   "source": [
    "#Adaptation of acquisition maximization from Python BayesOpt implementation found at\n",
    "#https://github.com/fmfn/BayesianOptimization\n",
    "\n",
    "def acq_max(ac, gp, y_max, bounds, random_state, n_warmup=1000, n_iter=250):\n",
    "    \"\"\"\n",
    "    A function to find the maximum of the acquisition function\n",
    "    It uses a combination of random sampling (cheap) and the 'L-BFGS-B'\n",
    "    optimization method. First by sampling `n_warmup` (1e5) points at random,\n",
    "    and then running L-BFGS-B from `n_iter` (250) random starting points.\n",
    "    Parameters\n",
    "    ----------\n",
    "    :param ac:\n",
    "        The acquisition function object that return its point-wise value.\n",
    "    :param gp:\n",
    "        A gaussian process fitted to the relevant data.\n",
    "    :param y_max:\n",
    "        The current maximum known value of the target function.\n",
    "    :param bounds:\n",
    "        The variables bounds to limit the search of the acq max.\n",
    "    :param random_state:\n",
    "        instance of np.RandomState random number generator\n",
    "    :param n_warmup:\n",
    "        number of times to randomly sample the aquisition function\n",
    "    :param n_iter:\n",
    "        number of times to run scipy.minimize\n",
    "    Returns\n",
    "    -------\n",
    "    :return: x_max, The arg max of the acquisition function.\n",
    "    \"\"\"\n",
    "    \n",
    "    # Warm up with random points\n",
    "    x_tries = Variable(torch.linspace(bounds[0][0], bounds[0][1], n_warmup))\n",
    "    \n",
    "    ys = ac(x_tries, gp, y_max, xi=0.2).data.numpy()\n",
    "    x_max = x_tries.data.numpy()[ys.argmax()]\n",
    "    max_acq = float(ys.max())\n",
    "\n",
    "    # Explore the parameter space more throughly\n",
    "    x_seeds = Variable(torch.linspace(bounds[0][0], bounds[0][1], n_iter))\n",
    "    \n",
    "    for x_try in x_seeds:\n",
    "\n",
    "        # Find the minimum of minus the acquisition function\n",
    "        res = minimize(lambda x: -ac(Variable(torch.from_numpy(x).float()), gp, y_max, xi=0.2),\n",
    "                       x_try,\n",
    "                       bounds=bounds,\n",
    "                       method=\"L-BFGS-B\")\n",
    "\n",
    "        # See if success\n",
    "        if not res.success:\n",
    "            continue\n",
    "           \n",
    "        # Store it if better than previous minimum(maximum).\n",
    "        if max_acq is None or float((-res.fun[0]).gt(max_acq)):\n",
    "            x_max = res.x\n",
    "            max_acq = float(-res.fun[0])\n",
    "\n",
    "    # Clip output to make sure it lies within the bounds. Due to floating\n",
    "    # point technicalities this is not always the case.\n",
    "    return np.clip(x_max, bounds[0][0], bounds[0][1])"
   ]
  },
  {
   "cell_type": "code",
   "execution_count": 159,
   "metadata": {},
   "outputs": [],
   "source": [
    "class Bayes_opt:\n",
    "    \n",
    "    def __init__(self, func, step_num):\n",
    "        \n",
    "        self.step_num = step_num\n",
    "        self.sample_pts = Variable(torch.zeros(step_num))     \n",
    "        self.sample_vals = Variable(torch.zeros(step_num))       \n",
    "        self.opt_val = -float(\"inf\")       \n",
    "        self.opt_soln = None       \n",
    "        self.obj_func = func\n",
    "        self.model_GP = None\n",
    "        \n",
    "        \n",
    "    def _ei(self, x, gp, y_max, xi):\n",
    " \n",
    "        predict_pt = gp(x)\n",
    "        mean = predict_pt.mean()\n",
    "        std = torch.sqrt(predict_pt.var())\n",
    "        z = (mean - y_max - xi)/std\n",
    "    \n",
    "        return (\n",
    "            (mean - y_max - xi) * Variable(torch.from_numpy(norm.cdf(z.data)).float()) + \n",
    "            std * Variable(torch.from_numpy(norm.pdf(z.data)).float())\n",
    "            )        \n",
    "    \n",
    "    def _update_GP(self, train_x, train_y):\n",
    "        \n",
    "        likelihood = GaussianLikelihood(log_noise_bounds=(-5, 5))\n",
    "        \n",
    "        model = ExactGPModel(train_x.data, train_y.data, likelihood)\n",
    "        model.train()\n",
    "        likelihood.train()\n",
    "        \n",
    "        # Use the adam optimizer\n",
    "        optimizer = torch.optim.Adam([\n",
    "            {'params': model.parameters()},  # Includes GaussianLikelihood parameters\n",
    "        ], lr=0.1)\n",
    "\n",
    "        # \"Loss\" for GPs - the marginal log likelihood\n",
    "        mll = gpytorch.mlls.ExactMarginalLogLikelihood(likelihood, model)\n",
    "\n",
    "        training_iter = 50\n",
    "        for i in range(training_iter):\n",
    "            # Zero gradients from previous iteration\n",
    "            optimizer.zero_grad()\n",
    "            # Output from model\n",
    "            output = model(train_x)\n",
    "            # Calc loss and backprop gradients\n",
    "            loss = -mll(output, train_y)\n",
    "            loss.backward()\n",
    "            #print('Iter %d/%d - Loss: %.3f   log_lengthscale: %.3f   log_noise: %.3f' % (\n",
    "                #i + 1, training_iter, loss.data[0],\n",
    "                #model.covar_module.log_lengthscale.data[0, 0],\n",
    "                #model.likelihood.log_noise.data[0]\n",
    "            #))\n",
    "            optimizer.step()\n",
    "    \n",
    "        # Put model and likelihood into eval mode\n",
    "        model.eval()\n",
    "        likelihood.eval()\n",
    "\n",
    "        return model\n",
    "        \n",
    "        \n",
    "    def optimize(self):\n",
    "        \n",
    "        start_pts = Variable(torch.rand(3))\n",
    "        start_vals = Variable(start_pts.data.apply_(self.obj_func))\n",
    "        self.opt_val = torch.min(start_vals.data)\n",
    "        ind = torch.min(start_vals.data, 0)[1]\n",
    "        self.opt_soln = start_pts[ind]\n",
    "\n",
    "        self.model_GP = self._update_GP(start_pts, start_vals)\n",
    "        \n",
    "        print(\"GP initiated\")\n",
    "        \n",
    "        for t in range(self.step_num):\n",
    "            \n",
    "            if t%10 == 9: print(t, ': ', self.opt_val)\n",
    "            \n",
    "            new_pt = acq_max(ac=self._ei, gp=self.model_GP, y_max=self.opt_val, bounds=[(0, 1)], random_state=np.random.RandomState())\n",
    "            new_val = self.obj_func(new_pt)\n",
    "            self.sample_pts[t] = float(new_pt)\n",
    "            self.sample_vals[t] = float(new_val)\n",
    "            \n",
    "            if new_val > self.opt_val:\n",
    "                self.opt_val = new_val \n",
    "                self.opt_soln = new_pt\n",
    "                \n",
    "            self.model_GP = self._update_GP(self.sample_pts[:t+1], self.sample_vals[:t+1])"
   ]
  },
  {
   "cell_type": "code",
   "execution_count": 162,
   "metadata": {},
   "outputs": [
    {
     "name": "stdout",
     "output_type": "stream",
     "text": [
      "GP initiated\n"
     ]
    },
    {
     "name": "stderr",
     "output_type": "stream",
     "text": [
      "WARNING:root:The input matches the stored training data. Did you forget to call model.train()?\n",
      "WARNING:root:The input matches the stored training data. Did you forget to call model.train()?\n",
      "WARNING:root:The input matches the stored training data. Did you forget to call model.train()?\n",
      "WARNING:root:The input matches the stored training data. Did you forget to call model.train()?\n"
     ]
    },
    {
     "name": "stdout",
     "output_type": "stream",
     "text": [
      "9 :  -0.5\n",
      "19 :  0.6701980146984186\n"
     ]
    }
   ],
   "source": [
    "#test _update_GP\n",
    "\n",
    "def test_func(x): \n",
    "    return -1/(x+1)*np.cos(2*math.pi*x)\n",
    "\n",
    "# Training data is 11 points in [0,1] inclusive regularly spaced\n",
    "#train_x = Variable(torch.linspace(0, 1, 11))\n",
    "train_x = Variable(torch.rand(11))\n",
    "# True function is sin(2*pi*x) with Gaussian noise N(0,0.04)\n",
    "train_y = Variable(torch.sin(train_x.data * (2 * math.pi)) + torch.randn(train_x.size()) * 0.2)\n",
    "\n",
    "test = Bayes_opt(test_func, 20)\n",
    "\n",
    "test.optimize()\n",
    "\n",
    "\n",
    "\n",
    "#model = test._update_GP(x_np=train_x, y_np=train_y)"
   ]
  },
  {
   "cell_type": "code",
   "execution_count": 164,
   "metadata": {},
   "outputs": [
    {
     "ename": "NameError",
     "evalue": "name 'bayes_opt' is not defined",
     "output_type": "error",
     "traceback": [
      "\u001b[0;31m---------------------------------------------------------------------------\u001b[0m",
      "\u001b[0;31mNameError\u001b[0m                                 Traceback (most recent call last)",
      "\u001b[0;32m<ipython-input-164-758c3f8d8709>\u001b[0m in \u001b[0;36m<module>\u001b[0;34m()\u001b[0m\n\u001b[1;32m     35\u001b[0m     \u001b[0max\u001b[0m\u001b[0;34m.\u001b[0m\u001b[0mset_title\u001b[0m\u001b[0;34m(\u001b[0m\u001b[0mtitle\u001b[0m\u001b[0;34m)\u001b[0m\u001b[0;34m\u001b[0m\u001b[0m\n\u001b[1;32m     36\u001b[0m \u001b[0;31m# Plot the predictions\u001b[0m\u001b[0;34m\u001b[0m\u001b[0;34m\u001b[0m\u001b[0m\n\u001b[0;32m---> 37\u001b[0;31m \u001b[0max_plot\u001b[0m\u001b[0;34m(\u001b[0m\u001b[0mobserved_ax\u001b[0m\u001b[0;34m,\u001b[0m \u001b[0mobserved_pred\u001b[0m\u001b[0;34m,\u001b[0m \u001b[0;34m'Observed Values (Likelihood)'\u001b[0m\u001b[0;34m)\u001b[0m\u001b[0;34m\u001b[0m\u001b[0m\n\u001b[0m",
      "\u001b[0;32m<ipython-input-164-758c3f8d8709>\u001b[0m in \u001b[0;36max_plot\u001b[0;34m(ax, rand_var, title)\u001b[0m\n\u001b[1;32m     17\u001b[0m \u001b[0;32mdef\u001b[0m \u001b[0max_plot\u001b[0m\u001b[0;34m(\u001b[0m\u001b[0max\u001b[0m\u001b[0;34m,\u001b[0m \u001b[0mrand_var\u001b[0m\u001b[0;34m,\u001b[0m \u001b[0mtitle\u001b[0m\u001b[0;34m)\u001b[0m\u001b[0;34m:\u001b[0m\u001b[0;34m\u001b[0m\u001b[0m\n\u001b[1;32m     18\u001b[0m \u001b[0;34m\u001b[0m\u001b[0m\n\u001b[0;32m---> 19\u001b[0;31m     \u001b[0mrand_var\u001b[0m \u001b[0;34m=\u001b[0m \u001b[0mbayes_opt\u001b[0m\u001b[0;34m.\u001b[0m\u001b[0mmodel_GP\u001b[0m\u001b[0;34m\u001b[0m\u001b[0m\n\u001b[0m\u001b[1;32m     20\u001b[0m     \u001b[0mtrain_x\u001b[0m \u001b[0;34m=\u001b[0m \u001b[0mbayes_opt\u001b[0m\u001b[0;34m.\u001b[0m\u001b[0msample_pts\u001b[0m\u001b[0;34m\u001b[0m\u001b[0m\n\u001b[1;32m     21\u001b[0m     \u001b[0mtrain_y\u001b[0m \u001b[0;34m=\u001b[0m \u001b[0mbayes_opt\u001b[0m\u001b[0;34m.\u001b[0m\u001b[0msample_vals\u001b[0m\u001b[0;34m\u001b[0m\u001b[0m\n",
      "\u001b[0;31mNameError\u001b[0m: name 'bayes_opt' is not defined"
     ]
    },
    {
     "data": {
      "image/png": "[encoded data removed]",
      "text/plain": [
       "<matplotlib.figure.Figure at 0x7ff75ea56b38>"
      ]
     },
     "metadata": {},
     "output_type": "display_data"
    }
   ],
   "source": [
    "# Put model and likelihood into eval mode\n",
    "model = test.model_GP\n",
    "likelihood = GaussianLikelihood(log_noise_bounds=(-5, 5))\n",
    "\n",
    "model.eval()\n",
    "likelihood.eval()\n",
    "\n",
    "# Initialize plot\n",
    "f, observed_ax = plt.subplots(1, 1, figsize=(4, 3))\n",
    "# Test points are regularly spaced along [0,1] every 0.02\n",
    "test_x = Variable(torch.linspace(0, 1, 51))\n",
    "# Make predictions by feeding model through likelihood\n",
    "with gpytorch.fast_pred_var():\n",
    "    observed_pred = likelihood(model(test_x))\n",
    "\n",
    "# Define plotting function\n",
    "def ax_plot(ax, rand_var, title):\n",
    "    \n",
    "    rand_var = bayes_opt.model_GP\n",
    "    train_x = bayes_opt.sample_pts\n",
    "    train_y = bayes_opt.sample_vals\n",
    "    \n",
    "    # Get upper and lower confidence bounds\n",
    "    lower, upper = rand_var.confidence_region()\n",
    "    # Plot training data as black stars\n",
    "    ax.plot(train_x.data.numpy(), train_y.data.numpy(), 'k*')\n",
    "    #Plot opt soln\n",
    "    ax.plot(train_x.data.numpy(), train_y.data.numpy(), 'k*')\n",
    "    # Plot predictive means as blue line\n",
    "    ax.plot(test_x.data.numpy(), rand_var.mean().data.numpy(), 'b')\n",
    "    # Shade between the lower and upper confidence bounds\n",
    "    ax.fill_between(test_x.data.numpy(), lower.data.numpy(), upper.data.numpy(), alpha=0.5)\n",
    "    ax.set_ylim([-3, 3])\n",
    "    ax.legend(['Observed Data', 'Mean', 'Confidence'])\n",
    "    ax.set_title(title)\n",
    "# Plot the predictions\n",
    "ax_plot(observed_ax, observed_pred, 'Observed Values (Likelihood)')"
   ]
  },
  {
   "cell_type": "code",
   "execution_count": 166,
   "metadata": {},
   "outputs": [
    {
     "data": {
      "text/plain": [
       "[<matplotlib.lines.Line2D at 0x7ff75ebc2b38>]"
      ]
     },
     "execution_count": 166,
     "metadata": {},
     "output_type": "execute_result"
    },
    {
     "data": {
      "image/png": "[encoded data removed]",
      "text/plain": [
       "<matplotlib.figure.Figure at 0x7ff75ebc2a90>"
      ]
     },
     "metadata": {},
     "output_type": "display_data"
    }
   ],
   "source": [
    "true_x = np.linspace(0, 1, 100)\n",
    "true_y = np.vectorize(test_func)(true_x)\n",
    "\n",
    "plt.scatter(test.sample_pts.data.numpy(), test.sample_vals.data.numpy())\n",
    "plt.plot(true_x, true_y, 'r')"
   ]
  },
  {
   "cell_type": "code",
   "execution_count": null,
   "metadata": {},
   "outputs": [],
   "source": [
    "test.sample_pts\n",
    "test.sample_vals"
   ]
  },
  {
   "cell_type": "code",
   "execution_count": 44,
   "metadata": {},
   "outputs": [],
   "source": [
    "y_max = Variable(torch.Tensor([0]))\n",
    "xi = Variable(torch.Tensor([0.01]))\n",
    "#train_x = Variable(torch.Tensor([[0, 0], [0.5, 0.5], [1, 1]]))\n",
    "train_x = Variable(torch.linspace(0.1, 0.9,  3))\n",
    "train_y = Variable(torch.Tensor([0, 1 , 0]))\n",
    "\n",
    "\n",
    "def _ei(x, gp, y_max, xi):\n",
    "    \n",
    "    predict_pt = gp(x)\n",
    "    mean = predict_pt.mean()\n",
    "    std = torch.sqrt(predict_pt.var())\n",
    "    z = (mean - y_max - xi)/std\n",
    "    \n",
    "    return (\n",
    "            (mean - y_max - xi) * Variable(torch.from_numpy(norm.cdf(z.data)).float()) + \n",
    "            std * Variable(torch.from_numpy(norm.pdf(z.data)).float())\n",
    "        )\n",
    "\n",
    "testf = lambda x: x*(x-1)\n",
    "test = Bayes_opt(testf, 10)\n",
    "testGP = test._update_GP(train_x, train_y)"
   ]
  },
  {
   "cell_type": "code",
   "execution_count": 142,
   "metadata": {},
   "outputs": [
    {
     "data": {
      "text/plain": [
       "array(0)"
      ]
     },
     "execution_count": 142,
     "metadata": {},
     "output_type": "execute_result"
    }
   ],
   "source": [
    "test_x = Variable(torch.Tensor([0.2, 0.4, 0.6]), requires_grad=False)\n",
    "\n",
    "mask = test_x.gt(0.5).data\n",
    "test_x[mask] = Variable(torch.Tensor([0]))\n",
    "\n",
    "a = np.array(0)\n",
    "a\n"
   ]
  },
  {
   "cell_type": "code",
   "execution_count": 23,
   "metadata": {},
   "outputs": [],
   "source": [
    "def get_input_param_optimizer(x):\n",
    "    input_param = torch.nn.Parameter(x.data)\n",
    "    optimizer = optim.LBFGS([input_param])\n",
    "    return input_param, optimizer"
   ]
  },
  {
   "cell_type": "code",
   "execution_count": 169,
   "metadata": {
    "collapsed": true
   },
   "outputs": [
    {
     "name": "stdout",
     "output_type": "stream",
     "text": [
      "Variable containing:\n",
      "-0.7417\n",
      "[torch.FloatTensor of size 1]\n",
      "\n"
     ]
    },
    {
     "ename": "RuntimeError",
     "evalue": "Trying to backward through the graph a second time, but the buffers have already been freed. Specify retain_graph=True when calling backward the first time.",
     "output_type": "error",
     "traceback": [
      "\u001b[0;31m---------------------------------------------------------------------------\u001b[0m",
      "\u001b[0;31mRuntimeError\u001b[0m                              Traceback (most recent call last)",
      "\u001b[0;32m<ipython-input-169-57a371bbc0d3>\u001b[0m in \u001b[0;36m<module>\u001b[0;34m()\u001b[0m\n\u001b[1;32m     11\u001b[0m         \u001b[0mprint\u001b[0m\u001b[0;34m(\u001b[0m\u001b[0mloss\u001b[0m\u001b[0;34m)\u001b[0m\u001b[0;34m\u001b[0m\u001b[0m\n\u001b[1;32m     12\u001b[0m         \u001b[0;32mreturn\u001b[0m \u001b[0mloss\u001b[0m\u001b[0;34m\u001b[0m\u001b[0m\n\u001b[0;32m---> 13\u001b[0;31m     \u001b[0moptimizer\u001b[0m\u001b[0;34m.\u001b[0m\u001b[0mstep\u001b[0m\u001b[0;34m(\u001b[0m\u001b[0mclosure\u001b[0m\u001b[0;34m)\u001b[0m\u001b[0;34m\u001b[0m\u001b[0m\n\u001b[0m",
      "\u001b[0;32m~/anaconda2/envs/gpytorch/lib/python3.6/site-packages/torch/optim/lbfgs.py\u001b[0m in \u001b[0;36mstep\u001b[0;34m(self, closure)\u001b[0m\n\u001b[1;32m     99\u001b[0m \u001b[0;34m\u001b[0m\u001b[0m\n\u001b[1;32m    100\u001b[0m         \u001b[0;31m# evaluate initial f(x) and df/dx\u001b[0m\u001b[0;34m\u001b[0m\u001b[0;34m\u001b[0m\u001b[0m\n\u001b[0;32m--> 101\u001b[0;31m         \u001b[0morig_loss\u001b[0m \u001b[0;34m=\u001b[0m \u001b[0mclosure\u001b[0m\u001b[0;34m(\u001b[0m\u001b[0;34m)\u001b[0m\u001b[0;34m\u001b[0m\u001b[0m\n\u001b[0m\u001b[1;32m    102\u001b[0m         \u001b[0mloss\u001b[0m \u001b[0;34m=\u001b[0m \u001b[0morig_loss\u001b[0m\u001b[0;34m.\u001b[0m\u001b[0mdata\u001b[0m\u001b[0;34m[\u001b[0m\u001b[0;36m0\u001b[0m\u001b[0;34m]\u001b[0m\u001b[0;34m\u001b[0m\u001b[0m\n\u001b[1;32m    103\u001b[0m         \u001b[0mcurrent_evals\u001b[0m \u001b[0;34m=\u001b[0m \u001b[0;36m1\u001b[0m\u001b[0;34m\u001b[0m\u001b[0m\n",
      "\u001b[0;32m<ipython-input-169-57a371bbc0d3>\u001b[0m in \u001b[0;36mclosure\u001b[0;34m()\u001b[0m\n\u001b[1;32m      8\u001b[0m         \u001b[0moptimizer\u001b[0m\u001b[0;34m.\u001b[0m\u001b[0mzero_grad\u001b[0m\u001b[0;34m(\u001b[0m\u001b[0;34m)\u001b[0m\u001b[0;34m\u001b[0m\u001b[0m\n\u001b[1;32m      9\u001b[0m         \u001b[0mloss\u001b[0m \u001b[0;34m=\u001b[0m \u001b[0;34m-\u001b[0m\u001b[0m_ei\u001b[0m\u001b[0;34m(\u001b[0m\u001b[0mx\u001b[0m\u001b[0;34m,\u001b[0m \u001b[0mtestGP\u001b[0m\u001b[0;34m,\u001b[0m \u001b[0my_max\u001b[0m\u001b[0;34m,\u001b[0m \u001b[0mxi\u001b[0m\u001b[0;34m)\u001b[0m\u001b[0;34m\u001b[0m\u001b[0m\n\u001b[0;32m---> 10\u001b[0;31m         \u001b[0mloss\u001b[0m\u001b[0;34m.\u001b[0m\u001b[0mbackward\u001b[0m\u001b[0;34m(\u001b[0m\u001b[0;34m)\u001b[0m\u001b[0;34m\u001b[0m\u001b[0m\n\u001b[0m\u001b[1;32m     11\u001b[0m         \u001b[0mprint\u001b[0m\u001b[0;34m(\u001b[0m\u001b[0mloss\u001b[0m\u001b[0;34m)\u001b[0m\u001b[0;34m\u001b[0m\u001b[0m\n\u001b[1;32m     12\u001b[0m         \u001b[0;32mreturn\u001b[0m \u001b[0mloss\u001b[0m\u001b[0;34m\u001b[0m\u001b[0m\n",
      "\u001b[0;32m~/anaconda2/envs/gpytorch/lib/python3.6/site-packages/torch/autograd/variable.py\u001b[0m in \u001b[0;36mbackward\u001b[0;34m(self, gradient, retain_graph, create_graph, retain_variables)\u001b[0m\n\u001b[1;32m    165\u001b[0m                 \u001b[0mVariable\u001b[0m\u001b[0;34m.\u001b[0m\u001b[0;34m\u001b[0m\u001b[0m\n\u001b[1;32m    166\u001b[0m         \"\"\"\n\u001b[0;32m--> 167\u001b[0;31m         \u001b[0mtorch\u001b[0m\u001b[0;34m.\u001b[0m\u001b[0mautograd\u001b[0m\u001b[0;34m.\u001b[0m\u001b[0mbackward\u001b[0m\u001b[0;34m(\u001b[0m\u001b[0mself\u001b[0m\u001b[0;34m,\u001b[0m \u001b[0mgradient\u001b[0m\u001b[0;34m,\u001b[0m \u001b[0mretain_graph\u001b[0m\u001b[0;34m,\u001b[0m \u001b[0mcreate_graph\u001b[0m\u001b[0;34m,\u001b[0m \u001b[0mretain_variables\u001b[0m\u001b[0;34m)\u001b[0m\u001b[0;34m\u001b[0m\u001b[0m\n\u001b[0m\u001b[1;32m    168\u001b[0m \u001b[0;34m\u001b[0m\u001b[0m\n\u001b[1;32m    169\u001b[0m     \u001b[0;32mdef\u001b[0m \u001b[0mregister_hook\u001b[0m\u001b[0;34m(\u001b[0m\u001b[0mself\u001b[0m\u001b[0;34m,\u001b[0m \u001b[0mhook\u001b[0m\u001b[0;34m)\u001b[0m\u001b[0;34m:\u001b[0m\u001b[0;34m\u001b[0m\u001b[0m\n",
      "\u001b[0;32m~/anaconda2/envs/gpytorch/lib/python3.6/site-packages/torch/autograd/__init__.py\u001b[0m in \u001b[0;36mbackward\u001b[0;34m(variables, grad_variables, retain_graph, create_graph, retain_variables)\u001b[0m\n\u001b[1;32m     97\u001b[0m \u001b[0;34m\u001b[0m\u001b[0m\n\u001b[1;32m     98\u001b[0m     Variable._execution_engine.run_backward(\n\u001b[0;32m---> 99\u001b[0;31m         variables, grad_variables, retain_graph)\n\u001b[0m\u001b[1;32m    100\u001b[0m \u001b[0;34m\u001b[0m\u001b[0m\n\u001b[1;32m    101\u001b[0m \u001b[0;34m\u001b[0m\u001b[0m\n",
      "\u001b[0;32m~/anaconda2/envs/gpytorch/lib/python3.6/site-packages/gpytorch/utils/function_factory.py\u001b[0m in \u001b[0;36mbackward\u001b[0;34m(self, grad_output)\u001b[0m\n\u001b[1;32m     48\u001b[0m             \u001b[0;32mif\u001b[0m \u001b[0mderivative_quadratic_form_factory\u001b[0m \u001b[0;32mis\u001b[0m \u001b[0;32mNone\u001b[0m\u001b[0;34m:\u001b[0m\u001b[0;34m\u001b[0m\u001b[0m\n\u001b[1;32m     49\u001b[0m                 \u001b[0;32mraise\u001b[0m \u001b[0mNotImplementedError\u001b[0m\u001b[0;34m\u001b[0m\u001b[0m\n\u001b[0;32m---> 50\u001b[0;31m             \u001b[0margs\u001b[0m \u001b[0;34m=\u001b[0m \u001b[0mself\u001b[0m\u001b[0;34m.\u001b[0m\u001b[0msaved_tensors\u001b[0m\u001b[0;34m[\u001b[0m\u001b[0;34m:\u001b[0m\u001b[0;34m-\u001b[0m\u001b[0;36m2\u001b[0m\u001b[0;34m]\u001b[0m\u001b[0;34m\u001b[0m\u001b[0m\n\u001b[0m\u001b[1;32m     51\u001b[0m             \u001b[0mres\u001b[0m \u001b[0;34m=\u001b[0m \u001b[0mself\u001b[0m\u001b[0;34m.\u001b[0m\u001b[0msaved_tensors\u001b[0m\u001b[0;34m[\u001b[0m\u001b[0;34m-\u001b[0m\u001b[0;36m1\u001b[0m\u001b[0;34m]\u001b[0m\u001b[0;34m\u001b[0m\u001b[0m\n\u001b[1;32m     52\u001b[0m             \u001b[0mmatmul_closure\u001b[0m \u001b[0;34m=\u001b[0m \u001b[0mself\u001b[0m\u001b[0;34m.\u001b[0m\u001b[0mmatmul_closure\u001b[0m\u001b[0;34m\u001b[0m\u001b[0m\n",
      "\u001b[0;31mRuntimeError\u001b[0m: Trying to backward through the graph a second time, but the buffers have already been freed. Specify retain_graph=True when calling backward the first time."
     ]
    }
   ],
   "source": [
    "test_x = Variable(torch.Tensor([0.25, 0.75]), requires_grad=True).expand(1, 2)\n",
    "\n",
    "x, optimizer = get_input_param_optimizer(test_x)\n",
    "\n",
    "for t in range(5):\n",
    "    \n",
    "    def closure():\n",
    "        optimizer.zero_grad()\n",
    "        loss = -_ei(x, testGP, y_max, xi)\n",
    "        loss.backward()\n",
    "        print(loss)\n",
    "        return loss\n",
    "    optimizer.step(closure)\n"
   ]
  },
  {
   "cell_type": "code",
   "execution_count": 86,
   "metadata": {},
   "outputs": [],
   "source": [
    "class Acq_func(torch.autograd.Function):\n",
    "    \n",
    "    @staticmethod\n",
    "    def forward(ctx, input):\n",
    "        ctx.save_for_backward(input)\n",
    "        return input\n",
    "    \n",
    "    @staticmethod\n",
    "    def backward(ctx, grad_output):\n",
    "        result, = ctx.saved_variables\n",
    "        return grad_output * result"
   ]
  },
  {
   "cell_type": "code",
   "execution_count": 35,
   "metadata": {
    "scrolled": true
   },
   "outputs": [
    {
     "data": {
      "text/plain": [
       "Variable containing:\n",
       " 0.3455\n",
       " 0.3453\n",
       " 0.3451\n",
       " 0.3450\n",
       " 0.3448\n",
       " 0.3447\n",
       " 0.3445\n",
       " 0.3444\n",
       " 0.3442\n",
       " 0.3441\n",
       " 0.3440\n",
       " 0.3438\n",
       " 0.3437\n",
       " 0.3436\n",
       " 0.3435\n",
       " 0.3433\n",
       " 0.3432\n",
       " 0.3431\n",
       " 0.3430\n",
       " 0.3429\n",
       " 0.3428\n",
       " 0.3427\n",
       " 0.3426\n",
       " 0.3425\n",
       " 0.3424\n",
       " 0.3423\n",
       " 0.3423\n",
       " 0.3422\n",
       " 0.3421\n",
       " 0.3420\n",
       " 0.3420\n",
       " 0.3419\n",
       " 0.3418\n",
       " 0.3418\n",
       " 0.3417\n",
       " 0.3417\n",
       " 0.3416\n",
       " 0.3416\n",
       " 0.3416\n",
       " 0.3415\n",
       " 0.3415\n",
       " 0.3415\n",
       " 0.3414\n",
       " 0.3414\n",
       " 0.3414\n",
       " 0.3414\n",
       " 0.3414\n",
       " 0.3413\n",
       " 0.3413\n",
       " 0.3413\n",
       " 0.3413\n",
       " 0.3413\n",
       " 0.3413\n",
       " 0.3414\n",
       " 0.3414\n",
       " 0.3414\n",
       " 0.3414\n",
       " 0.3414\n",
       " 0.3415\n",
       " 0.3415\n",
       " 0.3415\n",
       " 0.3416\n",
       " 0.3416\n",
       " 0.3416\n",
       " 0.3417\n",
       " 0.3417\n",
       " 0.3418\n",
       " 0.3418\n",
       " 0.3419\n",
       " 0.3420\n",
       " 0.3420\n",
       " 0.3421\n",
       " 0.3422\n",
       " 0.3423\n",
       " 0.3423\n",
       " 0.3424\n",
       " 0.3425\n",
       " 0.3426\n",
       " 0.3427\n",
       " 0.3428\n",
       " 0.3429\n",
       " 0.3430\n",
       " 0.3431\n",
       " 0.3432\n",
       " 0.3433\n",
       " 0.3435\n",
       " 0.3436\n",
       " 0.3437\n",
       " 0.3438\n",
       " 0.3440\n",
       " 0.3441\n",
       " 0.3442\n",
       " 0.3444\n",
       " 0.3445\n",
       " 0.3447\n",
       " 0.3448\n",
       " 0.3450\n",
       " 0.3451\n",
       " 0.3453\n",
       " 0.3455\n",
       "[torch.FloatTensor of size 100]"
      ]
     },
     "execution_count": 35,
     "metadata": {},
     "output_type": "execute_result"
    }
   ],
   "source": [
    "test_x = Variable(torch.linspace(0, 1, 100))\n",
    "\n",
    "_ei(test_x, testGP, y_max, xi)"
   ]
  },
  {
   "cell_type": "code",
   "execution_count": null,
   "metadata": {},
   "outputs": [],
   "source": []
  }
 ],
 "metadata": {
  "kernelspec": {
   "display_name": "Python [conda env:gpytorch]",
   "language": "python",
   "name": "conda-env-gpytorch-py"
  }
 },
 "nbformat": 4,
 "nbformat_minor": 2
}
